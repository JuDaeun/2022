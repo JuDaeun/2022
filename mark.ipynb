{
 "cells": [
  {
   "cell_type": "markdown",
   "metadata": {},
   "source": [
    "제목\n",
    "===========\n",
    "\n",
    "부제목\n",
    "-------------\n",
    "\n",
    "# h1\n",
    "### h3\n",
    "##### h6\n",
    "\n",
    "\n",
    "> content1\n",
    ">   > content2\n",
    ">   >   > content3"
   ]
  },
  {
   "cell_type": "markdown",
   "metadata": {},
   "source": [
    "## list\n",
    "\n",
    "1. 첫번째\n",
    "2. 두번째\n",
    "3. 세번째\n",
    "\n",
    "* 리스트 1\n",
    "* 리스트 2\n",
    "* 리스트 3\n",
    "    * 리스트 3.1\n",
    "        * 리스트 3.1.1"
   ]
  },
  {
   "cell_type": "markdown",
   "metadata": {},
   "source": [
    "### code\n",
    "\n",
    "```python\n",
    "i=0\n",
    "i+1\n",
    "print(i)\n",
    "```\n",
    "\n",
    "code end"
   ]
  },
  {
   "cell_type": "markdown",
   "metadata": {},
   "source": []
  },
  {
   "cell_type": "markdown",
   "metadata": {},
   "source": [
    "----------------"
   ]
  },
  {
   "cell_type": "markdown",
   "metadata": {},
   "source": [
    "**************"
   ]
  },
  {
   "cell_type": "markdown",
   "metadata": {},
   "source": [
    "[Google][googlelink]\n",
    "\n",
    "[googlelink]: http://www.google.com "
   ]
  },
  {
   "cell_type": "markdown",
   "metadata": {},
   "source": []
  },
  {
   "cell_type": "markdown",
   "metadata": {},
   "source": [
    "![Alt text](https://postfiles.pstatic.net/MjAyMTEyMzFfMjEg/MDAxNjQwOTQxODkwMDQy.P9GwqIFt7jR6EzDQTxgQtHK8-9koiU-fTNF3UokgoeAg.wuSAUmy2hyjZGhKVLlHPFgNUn8-EFgGmV21H6Pw6-K0g.JPEG.plzmini/KakaoTalk_20210917_124912039_25.jpg?type=w966)\n",
    "\n",
    "<img src=\"https://postfiles.pstatic.net/MjAyMTEyMzFfMjEg/MDAxNjQwOTQxODkwMDQy.P9GwqIFt7jR6EzDQTxgQtHK8-9koiU-fTNF3UokgoeAg.wuSAUmy2hyjZGhKVLlHPFgNUn8-EFgGmV21H6Pw6-K0g.JPEG.plzmini/KakaoTalk_20210917_124912039_25.jpg?type=w966\" width=\"40%\">"
   ]
  },
  {
   "cell_type": "markdown",
   "metadata": {},
   "source": []
  }
 ],
 "metadata": {
  "language_info": {
   "name": "python"
  },
  "orig_nbformat": 4
 },
 "nbformat": 4,
 "nbformat_minor": 2
}
